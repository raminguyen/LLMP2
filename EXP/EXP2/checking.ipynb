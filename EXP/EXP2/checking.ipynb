{
 "cells": [
  {
   "cell_type": "code",
   "execution_count": null,
   "metadata": {},
   "outputs": [
    {
     "name": "stdout",
     "output_type": "stream",
     "text": [
      "\n",
      "--- Generating images for task: pie ---\n"
     ]
    }
   ],
   "source": [
    "from EXP2fullprogress import generate_dataset_exp2\n",
    "\n",
    "main_output_dir=\"./checkingoverlap\"\n",
    "\n",
    "images_per_task = 5000\n",
    "\n",
    "generate_dataset_exp2(main_output_dir, images_per_task)"
   ]
  },
  {
   "cell_type": "code",
   "execution_count": null,
   "metadata": {},
   "outputs": [
    {
     "name": "stdout",
     "output_type": "stream",
     "text": [
      "\n",
      "==================================================\n",
      "               DATASET SUMMARY\n",
      "==================================================\n",
      "\n",
      "📊 Total Images per Dataset:\n",
      "----------------------------------------\n",
      "🔵 Training:    10,000 images\n",
      "🟡 Validation:  2,000 images\n",
      "🟢 Testing:     1,000 images\n",
      "📈 Total:       13,000 images\n",
      "\n",
      "==================================================\n",
      "               TASK DISTRIBUTION\n",
      "==================================================\n",
      "\n",
      "| Dataset      | Task                   | Image Count |\n",
      "|------------|------------------------|-------------|\n",
      "| 🔵 Training | pie                    |        5000 |\n",
      "| 🔵 Training | bar                    |        5000 |\n",
      "| 🟡 Valid    | pie                    |        1000 |\n",
      "| 🟡 Valid    | bar                    |        1000 |\n",
      "| 🟢 Test     | pie                    |         500 |\n",
      "| 🟢 Test     | bar                    |         500 |\n",
      "\n",
      "==================================================\n",
      "               OVERLAP ANALYSIS\n",
      "==================================================\n",
      "✅ No overlap between Training and Validation\n",
      "✅ No overlap between Training and Testing\n",
      "✅ No overlap between Validation and Testing\n",
      "\n",
      "==================================================\n",
      "               UNIQUE LABELS\n",
      "==================================================\n",
      "\n",
      "| Dataset      | Total Unique Labels |\n",
      "|------------|-------------------|\n",
      "| 🔵 Training |              7792 |\n",
      "| 🟡 Valid    |              1879 |\n",
      "| 🟢 Test     |               965 |\n",
      "\n",
      "==================================================\n"
     ]
    }
   ],
   "source": [
    "from EXP2fullprogress import verify_dataset\n",
    "\n",
    "verify_dataset(main_output_dir)"
   ]
  }
 ],
 "metadata": {
  "kernelspec": {
   "display_name": "sbatch2",
   "language": "python",
   "name": "python3"
  },
  "language_info": {
   "codemirror_mode": {
    "name": "ipython",
    "version": 3
   },
   "file_extension": ".py",
   "mimetype": "text/x-python",
   "name": "python",
   "nbconvert_exporter": "python",
   "pygments_lexer": "ipython3",
   "version": "3.10.13"
  }
 },
 "nbformat": 4,
 "nbformat_minor": 2
}
