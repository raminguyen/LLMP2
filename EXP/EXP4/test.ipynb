{
 "cells": [
  {
   "cell_type": "code",
   "execution_count": 1,
   "metadata": {},
   "outputs": [],
   "source": [
    "from EXP5fullprogress import Runexp5\n",
    "\n",
    "# Assigning the paths\n",
    "test_dataset_path = \"/hpcstor6/scratch01/h/huuthanhvy.nguyen001/EXP5/finetuning-EXP5numberone/json/test_dataset.json\"\n",
    "results_dir = \"/hpcstor6/scratch01/h/huuthanhvy.nguyen001/EXP5/finetuning-EXP5numberone/EXP-Results/\"\n",
    "model_dir = \"/hpcstor6/scratch01/h/huuthanhvy.nguyen001/EXP5/finetuning-EXP5numberone/fine_tuned_model/\"\n",
    "csv_filename = \"EXP5numberone_results.csv\"\n",
    "image_base_dir = \"/hpcstor6/scratch01/h/huuthanhvy.nguyen001/EXP5/finetuning-EXP5numberone/images/\"\n"
   ]
  },
  {
   "cell_type": "code",
   "execution_count": 2,
   "metadata": {},
   "outputs": [
    {
     "name": "stdout",
     "output_type": "stream",
     "text": [
      "                                     id  \\\n",
      "0  93379e53-b216-49df-855d-c75ba3329405   \n",
      "1  859fdb14-e8ca-4db7-9b8b-734167bc6e89   \n",
      "2  0ce53e14-155d-4929-a64b-5494e77c1357   \n",
      "\n",
      "                                               image  task  \\\n",
      "0  images/10_93379e53-b216-49df-855d-c75ba3329405...    10   \n",
      "1  images/100_859fdb14-e8ca-4db7-9b8b-734167bc6e8...   100   \n",
      "2  images/1000_0ce53e14-155d-4929-a64b-5494e77c13...  1000   \n",
      "\n",
      "                                            question  value  \n",
      "0  Please estimate how many dots were added to th...     10  \n",
      "1  Please estimate how many dots were added to th...     10  \n",
      "2  Please estimate how many dots were added to th...     10  \n",
      "Initializing llamaModel with adapter: /hpcstor6/scratch01/h/huuthanhvy.nguyen001/EXP5/finetuning-EXP5numberone/fine_tuned_model/\n"
     ]
    },
    {
     "data": {
      "application/vnd.jupyter.widget-view+json": {
       "model_id": "00426a35807b4ece8f784111432c1aaf",
       "version_major": 2,
       "version_minor": 0
      },
      "text/plain": [
       "Loading checkpoint shards:   0%|          | 0/5 [00:00<?, ?it/s]"
      ]
     },
     "metadata": {},
     "output_type": "display_data"
    },
    {
     "name": "stdout",
     "output_type": "stream",
     "text": [
      "Initializing GPTModel with model_name: gpt-4o\n",
      "Initializing llamaModel with model_name: meta-llama/Llama-3.2-11B-Vision-Instruct\n",
      "Unique tasks in test_data: ['10' '100' '1000']\n",
      "QUERIES keys: dict_keys(['10', '100', '1000'])\n",
      "Run 1 for task: 10, image: /hpcstor6/scratch01/h/huuthanhvy.nguyen001/EXP5/finetuning-EXP5numberone/images/10_93379e53-b216-49df-855d-c75ba3329405.jpg\n",
      "Running CustomLLaMA on /hpcstor6/scratch01/h/huuthanhvy.nguyen001/EXP5/finetuning-EXP5numberone/images/10_93379e53-b216-49df-855d-c75ba3329405.jpg...\n",
      "Running gpt4o on /hpcstor6/scratch01/h/huuthanhvy.nguyen001/EXP5/finetuning-EXP5numberone/images/10_93379e53-b216-49df-855d-c75ba3329405.jpg...\n",
      "Running LLaMA on /hpcstor6/scratch01/h/huuthanhvy.nguyen001/EXP5/finetuning-EXP5numberone/images/10_93379e53-b216-49df-855d-c75ba3329405.jpg...\n"
     ]
    },
    {
     "name": "stderr",
     "output_type": "stream",
     "text": [
      "The model weights are not tied. Please use the `tie_weights` method before using the `infer_auto_device` function.\n"
     ]
    },
    {
     "data": {
      "application/vnd.jupyter.widget-view+json": {
       "model_id": "a65a9a5c67624df3ad9cc005dea5fb13",
       "version_major": 2,
       "version_minor": 0
      },
      "text/plain": [
       "Loading checkpoint shards:   0%|          | 0/5 [00:00<?, ?it/s]"
      ]
     },
     "metadata": {},
     "output_type": "display_data"
    },
    {
     "name": "stdout",
     "output_type": "stream",
     "text": [
      "Running GeminiProVision on /hpcstor6/scratch01/h/huuthanhvy.nguyen001/EXP5/finetuning-EXP5numberone/images/10_93379e53-b216-49df-855d-c75ba3329405.jpg...\n",
      "Running Gemini1_5Flash on /hpcstor6/scratch01/h/huuthanhvy.nguyen001/EXP5/finetuning-EXP5numberone/images/10_93379e53-b216-49df-855d-c75ba3329405.jpg...\n",
      "Run 2 for task: 10, image: /hpcstor6/scratch01/h/huuthanhvy.nguyen001/EXP5/finetuning-EXP5numberone/images/10_93379e53-b216-49df-855d-c75ba3329405.jpg\n",
      "Running CustomLLaMA on /hpcstor6/scratch01/h/huuthanhvy.nguyen001/EXP5/finetuning-EXP5numberone/images/10_93379e53-b216-49df-855d-c75ba3329405.jpg...\n",
      "Running gpt4o on /hpcstor6/scratch01/h/huuthanhvy.nguyen001/EXP5/finetuning-EXP5numberone/images/10_93379e53-b216-49df-855d-c75ba3329405.jpg...\n",
      "Running LLaMA on /hpcstor6/scratch01/h/huuthanhvy.nguyen001/EXP5/finetuning-EXP5numberone/images/10_93379e53-b216-49df-855d-c75ba3329405.jpg...\n"
     ]
    },
    {
     "name": "stderr",
     "output_type": "stream",
     "text": [
      "The model weights are not tied. Please use the `tie_weights` method before using the `infer_auto_device` function.\n"
     ]
    },
    {
     "data": {
      "application/vnd.jupyter.widget-view+json": {
       "model_id": "becfc79f0709404594c958c141cad654",
       "version_major": 2,
       "version_minor": 0
      },
      "text/plain": [
       "Loading checkpoint shards:   0%|          | 0/5 [00:00<?, ?it/s]"
      ]
     },
     "metadata": {},
     "output_type": "display_data"
    },
    {
     "name": "stdout",
     "output_type": "stream",
     "text": [
      "Running GeminiProVision on /hpcstor6/scratch01/h/huuthanhvy.nguyen001/EXP5/finetuning-EXP5numberone/images/10_93379e53-b216-49df-855d-c75ba3329405.jpg...\n",
      "Running Gemini1_5Flash on /hpcstor6/scratch01/h/huuthanhvy.nguyen001/EXP5/finetuning-EXP5numberone/images/10_93379e53-b216-49df-855d-c75ba3329405.jpg...\n",
      "Run 3 for task: 10, image: /hpcstor6/scratch01/h/huuthanhvy.nguyen001/EXP5/finetuning-EXP5numberone/images/10_93379e53-b216-49df-855d-c75ba3329405.jpg\n",
      "Running CustomLLaMA on /hpcstor6/scratch01/h/huuthanhvy.nguyen001/EXP5/finetuning-EXP5numberone/images/10_93379e53-b216-49df-855d-c75ba3329405.jpg...\n",
      "Running gpt4o on /hpcstor6/scratch01/h/huuthanhvy.nguyen001/EXP5/finetuning-EXP5numberone/images/10_93379e53-b216-49df-855d-c75ba3329405.jpg...\n",
      "Running LLaMA on /hpcstor6/scratch01/h/huuthanhvy.nguyen001/EXP5/finetuning-EXP5numberone/images/10_93379e53-b216-49df-855d-c75ba3329405.jpg...\n"
     ]
    },
    {
     "name": "stderr",
     "output_type": "stream",
     "text": [
      "The model weights are not tied. Please use the `tie_weights` method before using the `infer_auto_device` function.\n"
     ]
    },
    {
     "data": {
      "application/vnd.jupyter.widget-view+json": {
       "model_id": "d91599e7130641828b56b1442e9793ee",
       "version_major": 2,
       "version_minor": 0
      },
      "text/plain": [
       "Loading checkpoint shards:   0%|          | 0/5 [00:00<?, ?it/s]"
      ]
     },
     "metadata": {},
     "output_type": "display_data"
    },
    {
     "name": "stdout",
     "output_type": "stream",
     "text": [
      "Running GeminiProVision on /hpcstor6/scratch01/h/huuthanhvy.nguyen001/EXP5/finetuning-EXP5numberone/images/10_93379e53-b216-49df-855d-c75ba3329405.jpg...\n",
      "Running Gemini1_5Flash on /hpcstor6/scratch01/h/huuthanhvy.nguyen001/EXP5/finetuning-EXP5numberone/images/10_93379e53-b216-49df-855d-c75ba3329405.jpg...\n",
      "Unique tasks in test_data: ['10' '100' '1000']\n",
      "QUERIES keys: dict_keys(['10', '100', '1000'])\n",
      "Run 1 for task: 100, image: /hpcstor6/scratch01/h/huuthanhvy.nguyen001/EXP5/finetuning-EXP5numberone/images/100_859fdb14-e8ca-4db7-9b8b-734167bc6e89.jpg\n",
      "Running CustomLLaMA on /hpcstor6/scratch01/h/huuthanhvy.nguyen001/EXP5/finetuning-EXP5numberone/images/100_859fdb14-e8ca-4db7-9b8b-734167bc6e89.jpg...\n",
      "Running gpt4o on /hpcstor6/scratch01/h/huuthanhvy.nguyen001/EXP5/finetuning-EXP5numberone/images/100_859fdb14-e8ca-4db7-9b8b-734167bc6e89.jpg...\n",
      "Running LLaMA on /hpcstor6/scratch01/h/huuthanhvy.nguyen001/EXP5/finetuning-EXP5numberone/images/100_859fdb14-e8ca-4db7-9b8b-734167bc6e89.jpg...\n"
     ]
    },
    {
     "name": "stderr",
     "output_type": "stream",
     "text": [
      "The model weights are not tied. Please use the `tie_weights` method before using the `infer_auto_device` function.\n"
     ]
    },
    {
     "data": {
      "application/vnd.jupyter.widget-view+json": {
       "model_id": "7619c03ec40a4adb9a01c7f1928e2808",
       "version_major": 2,
       "version_minor": 0
      },
      "text/plain": [
       "Loading checkpoint shards:   0%|          | 0/5 [00:00<?, ?it/s]"
      ]
     },
     "metadata": {},
     "output_type": "display_data"
    },
    {
     "name": "stdout",
     "output_type": "stream",
     "text": [
      "Running GeminiProVision on /hpcstor6/scratch01/h/huuthanhvy.nguyen001/EXP5/finetuning-EXP5numberone/images/100_859fdb14-e8ca-4db7-9b8b-734167bc6e89.jpg...\n",
      "Running Gemini1_5Flash on /hpcstor6/scratch01/h/huuthanhvy.nguyen001/EXP5/finetuning-EXP5numberone/images/100_859fdb14-e8ca-4db7-9b8b-734167bc6e89.jpg...\n",
      "Run 2 for task: 100, image: /hpcstor6/scratch01/h/huuthanhvy.nguyen001/EXP5/finetuning-EXP5numberone/images/100_859fdb14-e8ca-4db7-9b8b-734167bc6e89.jpg\n",
      "Running CustomLLaMA on /hpcstor6/scratch01/h/huuthanhvy.nguyen001/EXP5/finetuning-EXP5numberone/images/100_859fdb14-e8ca-4db7-9b8b-734167bc6e89.jpg...\n",
      "Running gpt4o on /hpcstor6/scratch01/h/huuthanhvy.nguyen001/EXP5/finetuning-EXP5numberone/images/100_859fdb14-e8ca-4db7-9b8b-734167bc6e89.jpg...\n",
      "Running LLaMA on /hpcstor6/scratch01/h/huuthanhvy.nguyen001/EXP5/finetuning-EXP5numberone/images/100_859fdb14-e8ca-4db7-9b8b-734167bc6e89.jpg...\n"
     ]
    },
    {
     "name": "stderr",
     "output_type": "stream",
     "text": [
      "The model weights are not tied. Please use the `tie_weights` method before using the `infer_auto_device` function.\n"
     ]
    },
    {
     "data": {
      "application/vnd.jupyter.widget-view+json": {
       "model_id": "bbbfa36b386841deb1983191d8f3bc9c",
       "version_major": 2,
       "version_minor": 0
      },
      "text/plain": [
       "Loading checkpoint shards:   0%|          | 0/5 [00:00<?, ?it/s]"
      ]
     },
     "metadata": {},
     "output_type": "display_data"
    },
    {
     "name": "stdout",
     "output_type": "stream",
     "text": [
      "Running GeminiProVision on /hpcstor6/scratch01/h/huuthanhvy.nguyen001/EXP5/finetuning-EXP5numberone/images/100_859fdb14-e8ca-4db7-9b8b-734167bc6e89.jpg...\n",
      "Running Gemini1_5Flash on /hpcstor6/scratch01/h/huuthanhvy.nguyen001/EXP5/finetuning-EXP5numberone/images/100_859fdb14-e8ca-4db7-9b8b-734167bc6e89.jpg...\n",
      "Run 3 for task: 100, image: /hpcstor6/scratch01/h/huuthanhvy.nguyen001/EXP5/finetuning-EXP5numberone/images/100_859fdb14-e8ca-4db7-9b8b-734167bc6e89.jpg\n",
      "Running CustomLLaMA on /hpcstor6/scratch01/h/huuthanhvy.nguyen001/EXP5/finetuning-EXP5numberone/images/100_859fdb14-e8ca-4db7-9b8b-734167bc6e89.jpg...\n",
      "Running gpt4o on /hpcstor6/scratch01/h/huuthanhvy.nguyen001/EXP5/finetuning-EXP5numberone/images/100_859fdb14-e8ca-4db7-9b8b-734167bc6e89.jpg...\n",
      "Running LLaMA on /hpcstor6/scratch01/h/huuthanhvy.nguyen001/EXP5/finetuning-EXP5numberone/images/100_859fdb14-e8ca-4db7-9b8b-734167bc6e89.jpg...\n"
     ]
    },
    {
     "name": "stderr",
     "output_type": "stream",
     "text": [
      "The model weights are not tied. Please use the `tie_weights` method before using the `infer_auto_device` function.\n"
     ]
    },
    {
     "data": {
      "application/vnd.jupyter.widget-view+json": {
       "model_id": "a061c637c2c94cea8f291bcddacbfc68",
       "version_major": 2,
       "version_minor": 0
      },
      "text/plain": [
       "Loading checkpoint shards:   0%|          | 0/5 [00:00<?, ?it/s]"
      ]
     },
     "metadata": {},
     "output_type": "display_data"
    },
    {
     "name": "stdout",
     "output_type": "stream",
     "text": [
      "Running GeminiProVision on /hpcstor6/scratch01/h/huuthanhvy.nguyen001/EXP5/finetuning-EXP5numberone/images/100_859fdb14-e8ca-4db7-9b8b-734167bc6e89.jpg...\n",
      "Running Gemini1_5Flash on /hpcstor6/scratch01/h/huuthanhvy.nguyen001/EXP5/finetuning-EXP5numberone/images/100_859fdb14-e8ca-4db7-9b8b-734167bc6e89.jpg...\n",
      "Unique tasks in test_data: ['10' '100' '1000']\n",
      "QUERIES keys: dict_keys(['10', '100', '1000'])\n",
      "Run 1 for task: 1000, image: /hpcstor6/scratch01/h/huuthanhvy.nguyen001/EXP5/finetuning-EXP5numberone/images/1000_0ce53e14-155d-4929-a64b-5494e77c1357.jpg\n",
      "Running CustomLLaMA on /hpcstor6/scratch01/h/huuthanhvy.nguyen001/EXP5/finetuning-EXP5numberone/images/1000_0ce53e14-155d-4929-a64b-5494e77c1357.jpg...\n",
      "Running gpt4o on /hpcstor6/scratch01/h/huuthanhvy.nguyen001/EXP5/finetuning-EXP5numberone/images/1000_0ce53e14-155d-4929-a64b-5494e77c1357.jpg...\n",
      "Running LLaMA on /hpcstor6/scratch01/h/huuthanhvy.nguyen001/EXP5/finetuning-EXP5numberone/images/1000_0ce53e14-155d-4929-a64b-5494e77c1357.jpg...\n"
     ]
    },
    {
     "name": "stderr",
     "output_type": "stream",
     "text": [
      "The model weights are not tied. Please use the `tie_weights` method before using the `infer_auto_device` function.\n"
     ]
    },
    {
     "data": {
      "application/vnd.jupyter.widget-view+json": {
       "model_id": "d962fc33870944d2be90fe4a4efa8649",
       "version_major": 2,
       "version_minor": 0
      },
      "text/plain": [
       "Loading checkpoint shards:   0%|          | 0/5 [00:00<?, ?it/s]"
      ]
     },
     "metadata": {},
     "output_type": "display_data"
    },
    {
     "name": "stdout",
     "output_type": "stream",
     "text": [
      "Running GeminiProVision on /hpcstor6/scratch01/h/huuthanhvy.nguyen001/EXP5/finetuning-EXP5numberone/images/1000_0ce53e14-155d-4929-a64b-5494e77c1357.jpg...\n",
      "Running Gemini1_5Flash on /hpcstor6/scratch01/h/huuthanhvy.nguyen001/EXP5/finetuning-EXP5numberone/images/1000_0ce53e14-155d-4929-a64b-5494e77c1357.jpg...\n",
      "Run 2 for task: 1000, image: /hpcstor6/scratch01/h/huuthanhvy.nguyen001/EXP5/finetuning-EXP5numberone/images/1000_0ce53e14-155d-4929-a64b-5494e77c1357.jpg\n",
      "Running CustomLLaMA on /hpcstor6/scratch01/h/huuthanhvy.nguyen001/EXP5/finetuning-EXP5numberone/images/1000_0ce53e14-155d-4929-a64b-5494e77c1357.jpg...\n",
      "Running gpt4o on /hpcstor6/scratch01/h/huuthanhvy.nguyen001/EXP5/finetuning-EXP5numberone/images/1000_0ce53e14-155d-4929-a64b-5494e77c1357.jpg...\n",
      "Running LLaMA on /hpcstor6/scratch01/h/huuthanhvy.nguyen001/EXP5/finetuning-EXP5numberone/images/1000_0ce53e14-155d-4929-a64b-5494e77c1357.jpg...\n"
     ]
    },
    {
     "name": "stderr",
     "output_type": "stream",
     "text": [
      "The model weights are not tied. Please use the `tie_weights` method before using the `infer_auto_device` function.\n"
     ]
    },
    {
     "data": {
      "application/vnd.jupyter.widget-view+json": {
       "model_id": "48a676697f76460292e484c52fe54d4d",
       "version_major": 2,
       "version_minor": 0
      },
      "text/plain": [
       "Loading checkpoint shards:   0%|          | 0/5 [00:00<?, ?it/s]"
      ]
     },
     "metadata": {},
     "output_type": "display_data"
    },
    {
     "name": "stdout",
     "output_type": "stream",
     "text": [
      "Running GeminiProVision on /hpcstor6/scratch01/h/huuthanhvy.nguyen001/EXP5/finetuning-EXP5numberone/images/1000_0ce53e14-155d-4929-a64b-5494e77c1357.jpg...\n",
      "Running Gemini1_5Flash on /hpcstor6/scratch01/h/huuthanhvy.nguyen001/EXP5/finetuning-EXP5numberone/images/1000_0ce53e14-155d-4929-a64b-5494e77c1357.jpg...\n",
      "Run 3 for task: 1000, image: /hpcstor6/scratch01/h/huuthanhvy.nguyen001/EXP5/finetuning-EXP5numberone/images/1000_0ce53e14-155d-4929-a64b-5494e77c1357.jpg\n",
      "Running CustomLLaMA on /hpcstor6/scratch01/h/huuthanhvy.nguyen001/EXP5/finetuning-EXP5numberone/images/1000_0ce53e14-155d-4929-a64b-5494e77c1357.jpg...\n",
      "Running gpt4o on /hpcstor6/scratch01/h/huuthanhvy.nguyen001/EXP5/finetuning-EXP5numberone/images/1000_0ce53e14-155d-4929-a64b-5494e77c1357.jpg...\n",
      "Running LLaMA on /hpcstor6/scratch01/h/huuthanhvy.nguyen001/EXP5/finetuning-EXP5numberone/images/1000_0ce53e14-155d-4929-a64b-5494e77c1357.jpg...\n"
     ]
    },
    {
     "name": "stderr",
     "output_type": "stream",
     "text": [
      "The model weights are not tied. Please use the `tie_weights` method before using the `infer_auto_device` function.\n"
     ]
    },
    {
     "data": {
      "application/vnd.jupyter.widget-view+json": {
       "model_id": "3a29c5ee1d2e43bab5f8f01b173696e6",
       "version_major": 2,
       "version_minor": 0
      },
      "text/plain": [
       "Loading checkpoint shards:   0%|          | 0/5 [00:00<?, ?it/s]"
      ]
     },
     "metadata": {},
     "output_type": "display_data"
    },
    {
     "name": "stdout",
     "output_type": "stream",
     "text": [
      "Running GeminiProVision on /hpcstor6/scratch01/h/huuthanhvy.nguyen001/EXP5/finetuning-EXP5numberone/images/1000_0ce53e14-155d-4929-a64b-5494e77c1357.jpg...\n",
      "Running Gemini1_5Flash on /hpcstor6/scratch01/h/huuthanhvy.nguyen001/EXP5/finetuning-EXP5numberone/images/1000_0ce53e14-155d-4929-a64b-5494e77c1357.jpg...\n",
      "Results saved to: /hpcstor6/scratch01/h/huuthanhvy.nguyen001/EXP5/finetuning-EXP5numberone/EXP-Results/EXP5numberone_results.csv\n",
      "All tasks completed successfully.\n"
     ]
    }
   ],
   "source": [
    "Runexp5(\n",
    "    test_dataset_path=test_dataset_path,\n",
    "    results_dir=results_dir,\n",
    "    model_dir=model_dir,\n",
    "    csv_filename=csv_filename,\n",
    "    image_base_dir=image_base_dir\n",
    ")\n"
   ]
  }
 ],
 "metadata": {
  "kernelspec": {
   "display_name": "Python 3 (ipykernel)",
   "language": "python",
   "name": "python3"
  },
  "language_info": {
   "codemirror_mode": {
    "name": "ipython",
    "version": 3
   },
   "file_extension": ".py",
   "mimetype": "text/x-python",
   "name": "python",
   "nbconvert_exporter": "python",
   "pygments_lexer": "ipython3",
   "version": "3.10.13"
  }
 },
 "nbformat": 4,
 "nbformat_minor": 2
}
