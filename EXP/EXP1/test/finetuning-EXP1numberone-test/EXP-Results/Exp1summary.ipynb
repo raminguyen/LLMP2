{
 "cells": [
  {
   "cell_type": "code",
   "execution_count": 1,
   "metadata": {},
   "outputs": [
    {
     "name": "stdout",
     "output_type": "stream",
     "text": [
      "<class 'pandas.core.frame.DataFrame'>\n",
      "RangeIndex: 135 entries, 0 to 134\n",
      "Data columns (total 8 columns):\n",
      " #   Column        Non-Null Count  Dtype  \n",
      "---  ------        --------------  -----  \n",
      " 0   task_name     135 non-null    object \n",
      " 1   query         135 non-null    object \n",
      " 2   run           135 non-null    int64  \n",
      " 3   model_name    135 non-null    object \n",
      " 4   image_path    135 non-null    object \n",
      " 5   ground_truth  135 non-null    float64\n",
      " 6   raw_answer    135 non-null    object \n",
      " 7   time_ms       135 non-null    float64\n",
      "dtypes: float64(2), int64(1), object(5)\n",
      "memory usage: 8.6+ KB\n",
      "Count unique rows for each model model_name\n",
      "CustomLLaMA        27\n",
      "gpt4o              27\n",
      "LLaMA              27\n",
      "GeminiProVision    27\n",
      "Gemini1_5Flash     27\n",
      "Name: count, dtype: int64\n",
      "Unique tasks are: 9\n",
      "🤔 Checking the 'raw_answer' column for sneaky NaNs or pesky 'n/a' values...\n",
      "🎉 Hooray! No missing or 'n/a' values found in this column. It's all squeaky clean! 🚀\n"
     ]
    },
    {
     "data": {
      "text/html": [
       "<div>\n",
       "<style scoped>\n",
       "    .dataframe tbody tr th:only-of-type {\n",
       "        vertical-align: middle;\n",
       "    }\n",
       "\n",
       "    .dataframe tbody tr th {\n",
       "        vertical-align: top;\n",
       "    }\n",
       "\n",
       "    .dataframe thead th {\n",
       "        text-align: right;\n",
       "    }\n",
       "</style>\n",
       "<table border=\"1\" class=\"dataframe\">\n",
       "  <thead>\n",
       "    <tr style=\"text-align: right;\">\n",
       "      <th></th>\n",
       "      <th>task_name</th>\n",
       "      <th>query</th>\n",
       "      <th>run</th>\n",
       "      <th>model_name</th>\n",
       "      <th>image_path</th>\n",
       "      <th>ground_truth</th>\n",
       "      <th>raw_answer</th>\n",
       "      <th>time_ms</th>\n",
       "    </tr>\n",
       "  </thead>\n",
       "  <tbody>\n",
       "  </tbody>\n",
       "</table>\n",
       "</div>"
      ],
      "text/plain": [
       "Empty DataFrame\n",
       "Columns: [task_name, query, run, model_name, image_path, ground_truth, raw_answer, time_ms]\n",
       "Index: []"
      ]
     },
     "execution_count": 1,
     "metadata": {},
     "output_type": "execute_result"
    }
   ],
   "source": [
    "from Exp1Summary import readcsv, count_model_rows, count_unique_tasks, check_missing_values\n",
    "\n",
    "file_path = \"EXP1numberone_results.csv\"\n",
    "\n",
    "df = readcsv(file_path)\n",
    "\n",
    "df.info()\n",
    "\n",
    "count_model_rows(df, column_name=\"model_name\")\n",
    "\n",
    "count_unique_tasks(df, column_name=\"task_name\")\n",
    "\n",
    "check_missing_values(df, column_name=\"raw_answer\")"
   ]
  },
  {
   "cell_type": "code",
   "execution_count": null,
   "metadata": {},
   "outputs": [],
   "source": []
  }
 ],
 "metadata": {
  "kernelspec": {
   "display_name": "sbatch2",
   "language": "python",
   "name": "python3"
  },
  "language_info": {
   "codemirror_mode": {
    "name": "ipython",
    "version": 3
   },
   "file_extension": ".py",
   "mimetype": "text/x-python",
   "name": "python",
   "nbconvert_exporter": "python",
   "pygments_lexer": "ipython3",
   "version": "3.10.13"
  }
 },
 "nbformat": 4,
 "nbformat_minor": 2
}
