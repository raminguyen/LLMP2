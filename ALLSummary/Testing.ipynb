{
 "cells": [
  {
   "cell_type": "markdown",
   "metadata": {},
   "source": [
    "=====\n",
    "\n",
    "Hello Daniel, below is how I perform a statical testing for the first EXP1.\n",
    "\n",
    "The link you sent me, you are using the method anova1way is outdated, therefore, I wrote each function seperately using libraries: scipy, pingouin, and stats models. \n",
    "\n",
    "I use p value = 0.05 to test our hypothesis.\n",
    "\n",
    "I start with O'Brien Test to test if variances are equal or not. \n",
    "\n",
    "==> If those variances are not equal --> I use Welch's Anova to see p-value.\n",
    "\n",
    "==> If those variances are equal --> I use Anova to see p-value.\n",
    "\n",
    "After performing Anova, I perform Tukey HSD Post-hoc Test to identify which specific models differ significantly.\n",
    "\n",
    "====\n",
    "\n",
    "Let me know how you think.\n"
   ]
  },
  {
   "cell_type": "markdown",
   "metadata": {},
   "source": [
    "#### EXP1"
   ]
  },
  {
   "cell_type": "code",
   "execution_count": 1,
   "metadata": {},
   "outputs": [
    {
     "name": "stdout",
     "output_type": "stream",
     "text": [
      "Total tasks: 7425\n",
      "Rows deleted: 13\n",
      "Total tasks: 7425\n",
      "Rows deleted: 16\n",
      "Total tasks: 7425\n",
      "Rows deleted: 10\n",
      "\n",
      "🔬 O'Brien Test for Homogeneity of Variances:\n",
      "F-statistic: 20.2672\n",
      "P-value: 1.2789e-16\n",
      "⚠️ Variances are not equal (heteroscedasticity detected). Using Welch’s ANOVA.\n",
      "\n",
      "📊 Welch's ANOVA Results:\n",
      "  Source  ddof1        ddof2         F     p-unc       np2\n",
      "0  Model      4  3644.551804  3.060524  0.015755  0.001498\n",
      "\n",
      "🔬 Performing Tukey's HSD Post-hoc Test...\n",
      "\n",
      "📊 Tukey's HSD Post-hoc Test Results:\n",
      "         Multiple Comparison of Means - Tukey HSD, FWER=0.05          \n",
      "======================================================================\n",
      "     group1          group2     meandiff p-adj   lower   upper  reject\n",
      "----------------------------------------------------------------------\n",
      "    CustomLLaMA  Gemini1_5Flash  -0.3871 0.1014 -0.8174  0.0433  False\n",
      "    CustomLLaMA GeminiProVision  -0.1783 0.7995 -0.6151  0.2586  False\n",
      "    CustomLLaMA           LLaMA  -0.1501   0.88 -0.5845  0.2842  False\n",
      "    CustomLLaMA           gpt4o  -0.4529 0.0337 -0.8837 -0.0221   True\n",
      " Gemini1_5Flash GeminiProVision   0.2088 0.6786 -0.2228  0.6404  False\n",
      " Gemini1_5Flash           LLaMA   0.2369 0.5581 -0.1921   0.666  False\n",
      " Gemini1_5Flash           gpt4o  -0.0658 0.9934 -0.4913  0.3597  False\n",
      "GeminiProVision           LLaMA   0.0281 0.9998 -0.4074  0.4637  False\n",
      "GeminiProVision           gpt4o  -0.2746 0.4129 -0.7067  0.1574  False\n",
      "          LLaMA           gpt4o  -0.3027 0.3051 -0.7323  0.1268  False\n",
      "----------------------------------------------------------------------\n"
     ]
    }
   ],
   "source": [
    "from Testing import testEXP1\n",
    "\n",
    "testEXP1()"
   ]
  },
  {
   "cell_type": "markdown",
   "metadata": {},
   "source": [
    "====\n",
    "\n",
    "Since p < 0.05, there is a siginificant difference in MLAE between all models.\n",
    "\n",
    "====\n",
    "\n",
    "From Tukey's HSD Post-hoc Test Results, I found that CustomLlaMA has a statically differrent MLAE than GPT-4o. \n"
   ]
  },
  {
   "cell_type": "markdown",
   "metadata": {},
   "source": [
    "I WILL CONTINUE TO DO EXP2 AFTER YOUR ADVICE ON EXP1."
   ]
  }
 ],
 "metadata": {
  "kernelspec": {
   "display_name": "Python 3 (ipykernel)",
   "language": "python",
   "name": "python3"
  },
  "language_info": {
   "codemirror_mode": {
    "name": "ipython",
    "version": 3
   },
   "file_extension": ".py",
   "mimetype": "text/x-python",
   "name": "python",
   "nbconvert_exporter": "python",
   "pygments_lexer": "ipython3",
   "version": "3.10.13"
  }
 },
 "nbformat": 4,
 "nbformat_minor": 2
}
