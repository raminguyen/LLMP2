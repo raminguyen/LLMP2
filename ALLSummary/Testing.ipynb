{
 "cells": [
  {
   "cell_type": "markdown",
   "metadata": {},
   "source": [
    "=====\n",
    "\n",
    "Hello Daniel, below is how I perform a statical testing for all EXPs.\n",
    "\n",
    "The link you sent me, you are using the method anova1way is outdated, therefore, I wrote each function seperately using libraries: scipy, pingouin, and stats models. \n",
    "\n",
    "I use p value = 0.01 to test our hypothesis.\n",
    "\n",
    "I start with O'Brien Test to test if variances are equal or not. \n",
    "\n",
    "==> If those variances are not equal --> I use Welch's Anova to see p-value.\n",
    "\n",
    "==> If those variances are equal --> I use Anova to see p-value.\n",
    "\n",
    "After performing Anova, I perform Tukey HSD Post-hoc Test to identify which specific models differ significantly with p-value 0.01."
   ]
  },
  {
   "cell_type": "markdown",
   "metadata": {},
   "source": [
    "#### EXP1"
   ]
  },
  {
   "cell_type": "code",
   "execution_count": 1,
   "metadata": {},
   "outputs": [
    {
     "name": "stdout",
     "output_type": "stream",
     "text": [
      "7308\n",
      "\n",
      "🔬 O'Brien Test for Homogeneity of Variances:\n",
      "F-statistic: 20.2672\n",
      "P-value: 1.2789e-16\n",
      "⚠️ Variances are not equal (heteroscedasticity detected). Using Welch’s ANOVA.\n",
      "\n",
      "📊 Welch's ANOVA Results:\n",
      "       Source  ddof1        ddof2         F     p-unc       np2\n",
      "0  model_name      4  3644.551804  3.060524  0.015755  0.001498\n",
      "\n",
      "🔬 Performing Tukey's HSD Post-hoc Test...\n",
      "\n",
      "📊 Tukey's HSD Post-hoc Test Results:\n",
      "         Multiple Comparison of Means - Tukey HSD, FWER=0.01         \n",
      "=====================================================================\n",
      "     group1          group2     meandiff p-adj   lower  upper  reject\n",
      "---------------------------------------------------------------------\n",
      "    CustomLLaMA  Gemini1_5Flash  -0.3871 0.1014 -0.9006 0.1264  False\n",
      "    CustomLLaMA GeminiProVision  -0.1783 0.7995 -0.6995  0.343  False\n",
      "    CustomLLaMA           LLaMA  -0.1501   0.88 -0.6684 0.3681  False\n",
      "    CustomLLaMA           gpt4o  -0.4529 0.0337  -0.967 0.0612  False\n",
      " Gemini1_5Flash GeminiProVision   0.2088 0.6786 -0.3062 0.7238  False\n",
      " Gemini1_5Flash           LLaMA   0.2369 0.5581 -0.2751 0.7489  False\n",
      " Gemini1_5Flash           gpt4o  -0.0658 0.9934 -0.5736  0.442  False\n",
      "GeminiProVision           LLaMA   0.0281 0.9998 -0.4916 0.5478  False\n",
      "GeminiProVision           gpt4o  -0.2746 0.4129 -0.7902  0.241  False\n",
      "          LLaMA           gpt4o  -0.3027 0.3051 -0.8153 0.2098  False\n",
      "---------------------------------------------------------------------\n"
     ]
    }
   ],
   "source": [
    "from Testing import calculate_mlae_individual_EXP1, perform_statistical_testing\n",
    "\n",
    "metric = calculate_mlae_individual_EXP1()\n",
    "\n",
    "perform_statistical_testing(metric)\n"
   ]
  },
  {
   "cell_type": "markdown",
   "metadata": {},
   "source": [
    "#### EXP2"
   ]
  },
  {
   "cell_type": "code",
   "execution_count": 2,
   "metadata": {},
   "outputs": [
    {
     "name": "stdout",
     "output_type": "stream",
     "text": [
      "\n",
      "🔬 O'Brien Test for Homogeneity of Variances:\n",
      "F-statistic: 10.1106\n",
      "P-value: 3.8385e-08\n",
      "⚠️ Variances are not equal (heteroscedasticity detected). Using Welch’s ANOVA.\n",
      "\n",
      "📊 Welch's ANOVA Results:\n",
      "       Source  ddof1        ddof2          F         p-unc       np2\n",
      "0  model_name      4  1439.593473  29.873637  6.643195e-24  0.024343\n",
      "⚠️ Significant result: p-value = 6.6432e-24 (p < 0.01)\n",
      "\n",
      "🔬 Performing Tukey's HSD Post-hoc Test...\n",
      "\n",
      "📊 Tukey's HSD Post-hoc Test Results:\n",
      "         Multiple Comparison of Means - Tukey HSD, FWER=0.01          \n",
      "======================================================================\n",
      "     group1          group2     meandiff p-adj   lower   upper  reject\n",
      "----------------------------------------------------------------------\n",
      "    CustomLLaMA  Gemini1_5Flash  -0.1099    0.0  -0.185 -0.0347   True\n",
      "    CustomLLaMA GeminiProVision   -0.124    0.0  -0.196  -0.052   True\n",
      "    CustomLLaMA           LLaMA   0.0471 0.2102 -0.0252  0.1195  False\n",
      "    CustomLLaMA           gpt4o   0.0781 0.0962 -0.0246  0.1809  False\n",
      " Gemini1_5Flash GeminiProVision  -0.0141 0.9732 -0.0892   0.061  False\n",
      " Gemini1_5Flash           LLaMA    0.157    0.0  0.0816  0.2324   True\n",
      " Gemini1_5Flash           gpt4o    0.188    0.0  0.0831  0.2929   True\n",
      "GeminiProVision           LLaMA   0.1712    0.0  0.0989  0.2434   True\n",
      "GeminiProVision           gpt4o   0.2021    0.0  0.0994  0.3048   True\n",
      "          LLaMA           gpt4o    0.031 0.8643 -0.0719  0.1339  False\n",
      "----------------------------------------------------------------------\n"
     ]
    }
   ],
   "source": [
    "from Testing import testEXP2, calculate_mlae_individual_EXP2, perform_statistical_testing\n",
    "\n",
    "metric = calculate_mlae_individual_EXP2()\n",
    "\n",
    "perform_statistical_testing(metric)"
   ]
  },
  {
   "cell_type": "markdown",
   "metadata": {},
   "source": [
    "### EXP3\n"
   ]
  },
  {
   "cell_type": "code",
   "execution_count": 3,
   "metadata": {},
   "outputs": [
    {
     "name": "stdout",
     "output_type": "stream",
     "text": [
      "11055\n",
      "\n",
      "🔬 O'Brien Test for Homogeneity of Variances:\n",
      "F-statistic: 132.2871\n",
      "P-value: 1.4697e-110\n",
      "⚠️ Variances are not equal (heteroscedasticity detected). Using Welch’s ANOVA.\n",
      "\n",
      "📊 Welch's ANOVA Results:\n",
      "       Source  ddof1       ddof2          F         p-unc       np2\n",
      "0  model_name      4  5362.76442  36.664778  2.758467e-30  0.015197\n",
      "⚠️ Significant result: p-value = 2.7585e-30 (p < 0.01)\n",
      "\n",
      "🔬 Performing Tukey's HSD Post-hoc Test...\n",
      "\n",
      "📊 Tukey's HSD Post-hoc Test Results:\n",
      "         Multiple Comparison of Means - Tukey HSD, FWER=0.01          \n",
      "======================================================================\n",
      "     group1          group2     meandiff p-adj   lower   upper  reject\n",
      "----------------------------------------------------------------------\n",
      "    CustomLLaMA  Gemini1_5Flash  -0.2135    0.0  -0.276  -0.151   True\n",
      "    CustomLLaMA GeminiProVision  -0.2211    0.0  -0.284 -0.1582   True\n",
      "    CustomLLaMA           LLaMA   -0.134    0.0 -0.1971 -0.0709   True\n",
      "    CustomLLaMA           gpt4o  -0.1544    0.0  -0.223 -0.0858   True\n",
      " Gemini1_5Flash GeminiProVision  -0.0076 0.9947 -0.0701  0.0548  False\n",
      " Gemini1_5Flash           LLaMA   0.0795 0.0004  0.0168  0.1421   True\n",
      " Gemini1_5Flash           gpt4o   0.0591 0.0385 -0.0091  0.1272  False\n",
      "GeminiProVision           LLaMA   0.0871 0.0001  0.0241  0.1502   True\n",
      "GeminiProVision           gpt4o   0.0667 0.0134 -0.0018  0.1353  False\n",
      "          LLaMA           gpt4o  -0.0204 0.8702 -0.0891  0.0483  False\n",
      "----------------------------------------------------------------------\n"
     ]
    }
   ],
   "source": [
    "from Testing import calculate_mlae_individual_EXP3, perform_statistical_testing\n",
    "\n",
    "metric = calculate_mlae_individual_EXP3()\n",
    "\n",
    "perform_statistical_testing(metric)"
   ]
  },
  {
   "cell_type": "markdown",
   "metadata": {},
   "source": [
    "### EXP4\n",
    "\n"
   ]
  },
  {
   "cell_type": "code",
   "execution_count": 4,
   "metadata": {},
   "outputs": [
    {
     "name": "stdout",
     "output_type": "stream",
     "text": [
      "\n",
      "🔬 O'Brien Test for Homogeneity of Variances:\n",
      "F-statistic: 42.6207\n",
      "P-value: 3.5998e-35\n",
      "⚠️ Variances are not equal (heteroscedasticity detected). Using Welch’s ANOVA.\n",
      "\n",
      "📊 Welch's ANOVA Results:\n",
      "       Source  ddof1        ddof2          F         p-unc       np2\n",
      "0  model_name      4  2314.900844  41.404557  1.439991e-33  0.044618\n",
      "⚠️ Significant result: p-value = 1.4400e-33 (p < 0.01)\n",
      "\n",
      "🔬 Performing Tukey's HSD Post-hoc Test...\n",
      "\n",
      "📊 Tukey's HSD Post-hoc Test Results:\n",
      "         Multiple Comparison of Means - Tukey HSD, FWER=0.01          \n",
      "======================================================================\n",
      "     group1          group2     meandiff p-adj   lower   upper  reject\n",
      "----------------------------------------------------------------------\n",
      "    CustomLLaMA  Gemini1_5Flash  -0.3054    0.0 -0.4451 -0.1656   True\n",
      "    CustomLLaMA GeminiProVision  -0.2031    0.0 -0.3427 -0.0636   True\n",
      "    CustomLLaMA           LLaMA   0.2781    0.0  0.1342  0.4219   True\n",
      "    CustomLLaMA           gpt4o  -0.2129    0.0 -0.3549 -0.0709   True\n",
      " Gemini1_5Flash GeminiProVision   0.1022 0.1202 -0.0375  0.2419  False\n",
      " Gemini1_5Flash           LLaMA   0.5834    0.0  0.4394  0.7274   True\n",
      " Gemini1_5Flash           gpt4o   0.0925 0.2123 -0.0497  0.2346  False\n",
      "GeminiProVision           LLaMA   0.4812    0.0  0.3374   0.625   True\n",
      "GeminiProVision           gpt4o  -0.0098 0.9994 -0.1518  0.1322  False\n",
      "          LLaMA           gpt4o   -0.491    0.0 -0.6372 -0.3448   True\n",
      "----------------------------------------------------------------------\n"
     ]
    }
   ],
   "source": [
    "from Testing import calculate_mlae_individual_EXP4, perform_statistical_testing\n",
    "\n",
    "metric = calculate_mlae_individual_EXP4()\n",
    "\n",
    "perform_statistical_testing(metric)"
   ]
  },
  {
   "cell_type": "markdown",
   "metadata": {},
   "source": [
    "### EXP5\n"
   ]
  },
  {
   "cell_type": "code",
   "execution_count": 5,
   "metadata": {},
   "outputs": [
    {
     "name": "stdout",
     "output_type": "stream",
     "text": [
      "7416\n",
      "\n",
      "🔬 O'Brien Test for Homogeneity of Variances:\n",
      "F-statistic: 123.3673\n",
      "P-value: 4.2397e-102\n",
      "⚠️ Variances are not equal (heteroscedasticity detected). Using Welch’s ANOVA.\n",
      "\n",
      "📊 Welch's ANOVA Results:\n",
      "       Source  ddof1        ddof2         F         p-unc       np2\n",
      "0  model_name      4  3676.962369  37.44439  9.643694e-31  0.032167\n",
      "⚠️ Significant result: p-value = 9.6437e-31 (p < 0.01)\n",
      "\n",
      "🔬 Performing Tukey's HSD Post-hoc Test...\n",
      "\n",
      "📊 Tukey's HSD Post-hoc Test Results:\n",
      "         Multiple Comparison of Means - Tukey HSD, FWER=0.01          \n",
      "======================================================================\n",
      "     group1          group2     meandiff p-adj   lower   upper  reject\n",
      "----------------------------------------------------------------------\n",
      "    CustomLLaMA  Gemini1_5Flash  -0.3501    0.0 -0.5885 -0.1118   True\n",
      "    CustomLLaMA GeminiProVision    -0.12 0.4725 -0.3583  0.1184  False\n",
      "    CustomLLaMA           LLaMA   0.6661    0.0  0.4275  0.9048   True\n",
      "    CustomLLaMA           gpt4o  -0.2888 0.0008 -0.5272 -0.0503   True\n",
      " Gemini1_5Flash GeminiProVision   0.2302 0.0144 -0.0082  0.4685  False\n",
      " Gemini1_5Flash           LLaMA   1.0163    0.0  0.7776  1.2549   True\n",
      " Gemini1_5Flash           gpt4o   0.0614 0.9188 -0.1771  0.2998  False\n",
      "GeminiProVision           LLaMA   0.7861    0.0  0.5475  1.0248   True\n",
      "GeminiProVision           gpt4o  -0.1688 0.1434 -0.4072  0.0697  False\n",
      "          LLaMA           gpt4o  -0.9549    0.0 -1.1936 -0.7162   True\n",
      "----------------------------------------------------------------------\n"
     ]
    }
   ],
   "source": [
    "from Testing import calculate_mlae_individual_EXP5\n",
    "\n",
    "metric = calculate_mlae_individual_EXP5()\n",
    "\n",
    "perform_statistical_testing(metric)"
   ]
  }
 ],
 "metadata": {
  "kernelspec": {
   "display_name": "sbatch2",
   "language": "python",
   "name": "python3"
  },
  "language_info": {
   "codemirror_mode": {
    "name": "ipython",
    "version": 3
   },
   "file_extension": ".py",
   "mimetype": "text/x-python",
   "name": "python",
   "nbconvert_exporter": "python",
   "pygments_lexer": "ipython3",
   "version": "3.10.13"
  }
 },
 "nbformat": 4,
 "nbformat_minor": 2
}
