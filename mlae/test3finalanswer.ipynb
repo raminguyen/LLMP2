{
 "cells": [
  {
   "cell_type": "markdown",
   "metadata": {},
   "source": [
    "=====\n",
    "\n",
    "Daniel, my final answer for this MLAE caculation is MLAE NEW.\n",
    "\n",
    "=====\n",
    "\n",
    "First, I tested caculating MLAE without scaling for all MLAE caculations.\n",
    "\n",
    "====\n",
    "\n",
    "And I found something is very interesting for the sequence of operation\n",
    "\n",
    "Let me know how you think Daniel? Thanks Daniel."
   ]
  },
  {
   "cell_type": "markdown",
   "metadata": {},
   "source": []
  },
  {
   "cell_type": "markdown",
   "metadata": {},
   "source": []
  },
  {
   "cell_type": "markdown",
   "metadata": {},
   "source": []
  },
  {
   "cell_type": "markdown",
   "metadata": {},
   "source": [
    "Why? If you average first, large errors dominate. If you log first, all errors contribute more fairly.\n"
   ]
  }
 ],
 "metadata": {
  "language_info": {
   "name": "python"
  }
 },
 "nbformat": 4,
 "nbformat_minor": 2
}
