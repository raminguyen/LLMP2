{
 "cells": [
  {
   "cell_type": "code",
   "execution_count": 1,
   "metadata": {},
   "outputs": [],
   "source": [
    "import sklearn.metrics\n",
    "import numpy as np\n",
    "\n",
    "def calculate_mlae(y_test, y_pred):\n",
    "\n",
    "  MLAE = np.log2(sklearn.metrics.mean_absolute_error(np.multiply(y_pred,100), np.multiply(y_test,100))+.125)\n",
    "  #overall measure error\n",
    "\n",
    "  MLAE_NEW = np.mean( np.log2( np.abs(np.multiply(y_pred,100) - np.multiply(y_test,100)) + .125 ) )\n",
    "  #apply log first before average\n",
    "  \n",
    "  MLAE_RAMI = np.log2(sklearn.metrics.mean_absolute_error(y_pred, y_test)+.125) # Nguyen 2025\n",
    "  #use real number to caculate\n",
    "\n",
    "  MLAE_OLD = np.log2(sklearn.metrics.mean_absolute_error(y_pred*100, y_test*100)+.125) # Haehn 2018\n",
    "\n",
    "  return MLAE, MLAE_NEW, MLAE_RAMI, MLAE_OLD\n"
   ]
  },
  {
   "cell_type": "markdown",
   "metadata": {},
   "source": [
    "THIS IS AN EXAMPLE OF 10 VALUES \n",
    "\n",
    "FIRST EXAMPLE: WITHIN NORMAL RANGE (1 TO 90 DEGREES)\n",
    "\n",
    "SECOND EXAMPLE: WITHIN NORMAL RANGE (1 TO 90 DEGREES) BUT ADD FEW OUTLIERS"
   ]
  },
  {
   "cell_type": "code",
   "execution_count": 2,
   "metadata": {},
   "outputs": [
    {
     "name": "stdout",
     "output_type": "stream",
     "text": [
      "{'MLAE': 9.077149515589733, 'MLAE_NEW': 8.846880906515228, 'MLAE_RAMI': 2.465974464504069, 'MLAE_OLD': 2.465974464504069}\n",
      "[45, 60, 5, 15, 25, 35, 55, 65, 75, 85, 18, 28, 38, 48, 58, 68, 78, 88, 120, 130]\n",
      "{'MLAE': 10.588831732700212, 'MLAE_NEW': 9.654565432178796, 'MLAE_RAMI': 3.956521363333119, 'MLAE_OLD': 3.956521363333119}\n"
     ]
    }
   ],
   "source": [
    "import random\n",
    "\n",
    "#Within normal range\n",
    "\n",
    "y_test1 = [40, 45, 10, 20, 30, 50, 60, 70, 80, 90, 12, 22, 32, 42, 52, 62, 72, 82, 25, 35]\n",
    "y_pred1 = [45, 60, 5, 12, 28, 38, 55, 68, 77, 89, 15, 27, 37, 47, 57, 67, 78, 88, 20, 30]\n",
    "\n",
    "results1 = calculate_mlae(y_test1, y_pred1)\n",
    "\n",
    "print({\"MLAE\": results1[0], \"MLAE_NEW\": results1[1], \"MLAE_RAMI\": results1[2], \"MLAE_OLD\": results1[3]})\n",
    "\n",
    "#Have one or two outliers in the dataset\n",
    "\n",
    "y_test2 = [40, 45, 10, 20, 30, 50, 60, 70, 80, 90, 12, 22, 32, 42, 52, 62, 72, 82, 25, 35] \n",
    "y_pred2 = [45, 60, 5, 15, 25, 35, 55, 65, 75, 85, 18, 28, 38, 48, 58, 68, 78, 88, 120, 130] \n",
    "\n",
    "\n",
    "results2 = calculate_mlae(y_test2, y_pred2)\n",
    "\n",
    "print(y_pred2)\n",
    "\n",
    "print({\"MLAE\": results2[0], \"MLAE_NEW\": results2[1], \"MLAE_RAMI\": results2[2], \"MLAE_OLD\": results2[3]})"
   ]
  },
  {
   "cell_type": "markdown",
   "metadata": {},
   "source": [
    "I USE REAL DATASET FOR ANGLE AND CUSTOMLLaMA TO PERFORM THE MLAE CACULATIONS. "
   ]
  },
  {
   "cell_type": "code",
   "execution_count": 3,
   "metadata": {},
   "outputs": [
    {
     "name": "stdout",
     "output_type": "stream",
     "text": [
      "<class 'pandas.core.frame.DataFrame'>\n",
      "Index: 157 entries, 0 to 156\n",
      "Data columns (total 12 columns):\n",
      " #   Column           Non-Null Count  Dtype  \n",
      "---  ------           --------------  -----  \n",
      " 0   task_name        157 non-null    object \n",
      " 1   query            157 non-null    object \n",
      " 2   run              157 non-null    int64  \n",
      " 3   model_name       157 non-null    object \n",
      " 4   image_path       157 non-null    object \n",
      " 5   ground_truth     157 non-null    float64\n",
      " 6   raw_answer       157 non-null    object \n",
      " 7   time_ms          157 non-null    float64\n",
      " 8   cleaned_answers  157 non-null    float64\n",
      " 9   task             157 non-null    object \n",
      " 10  file             157 non-null    object \n",
      " 11  model_type       157 non-null    object \n",
      "dtypes: float64(3), int64(1), object(8)\n",
      "memory usage: 15.9+ KB\n"
     ]
    }
   ],
   "source": [
    "import pandas as pd\n",
    "\n",
    "angle_dataframe = pd.read_csv(\"angle_dataframe\")\n",
    "\n",
    "angle_dataframe[\"model_name\"].unique()\n",
    "\n",
    "customllama = angle_dataframe[angle_dataframe[\"model_name\"] ==\"CustomLLaMA\"]\n",
    "\n",
    "customllama.info()\n"
   ]
  },
  {
   "cell_type": "markdown",
   "metadata": {},
   "source": [
    "I CONVERT COLUMNS GROUND_TRUTH AND CLEANED ANSWERS TO LIST"
   ]
  },
  {
   "cell_type": "code",
   "execution_count": 4,
   "metadata": {},
   "outputs": [
    {
     "name": "stdout",
     "output_type": "stream",
     "text": [
      "{'MLAE': 12.993450259227716, 'MLAE_NEW': 12.373521263371737, 'MLAE_RAMI': 6.351781690836879, 'MLAE_OLD': 6.351781690836879}\n"
     ]
    }
   ],
   "source": [
    "import sklearn.metrics\n",
    "import numpy as np\n",
    "\n",
    "y_test = customllama[\"ground_truth\"].tolist()\n",
    "\n",
    "y_pred = customllama['cleaned_answers'].tolist()\n",
    "\n",
    "result = calculate_mlae(y_test, y_pred)\n",
    "\n",
    "print({\"MLAE\": result[0], \"MLAE_NEW\": result[1], \"MLAE_RAMI\": result[2], \"MLAE_OLD\": result[3]})  \n"
   ]
  },
  {
   "cell_type": "markdown",
   "metadata": {},
   "source": [
    "ONCE I PUT IN REAL DATASET, I FOUND MLAE_RAMI AND MLAE_OLD ARE THE SAME RESULTS. \n",
    "\n",
    "I USE REAL NUMBER TO CACULATE MLAE WITHOUT NORMALIZING AS WELL. \n",
    "\n",
    "FOR THE FIRST TWO MLAES, IF THEY SCALE 100, THEN PREDICTION VALUE MORE LARGE. \n",
    "\n",
    "LIKE ANGLE = 45 will become 4500.\n",
    "\n",
    "==> I THINK WHY THE FIRST TWO MLAE DOUBLED RESULTS. HOW DO THINK DANIEL?"
   ]
  }
 ],
 "metadata": {
  "kernelspec": {
   "display_name": "sbatch2",
   "language": "python",
   "name": "python3"
  },
  "language_info": {
   "codemirror_mode": {
    "name": "ipython",
    "version": 3
   },
   "file_extension": ".py",
   "mimetype": "text/x-python",
   "name": "python",
   "nbconvert_exporter": "python",
   "pygments_lexer": "ipython3",
   "version": "3.10.13"
  }
 },
 "nbformat": 4,
 "nbformat_minor": 2
}
